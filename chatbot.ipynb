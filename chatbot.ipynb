{
 "cells": [
  {
   "cell_type": "code",
   "execution_count": 2,
   "id": "f7a218aa",
   "metadata": {},
   "outputs": [],
   "source": [
    "import os\n",
    "from dotenv import load_dotenv\n",
    "from langchain_core.prompts import ChatPromptTemplate\n",
    "from langchain_core.output_parsers import StrOutputParser\n",
    "from langchain_groq import ChatGroq"
   ]
  },
  {
   "cell_type": "code",
   "execution_count": 3,
   "id": "89f1f684",
   "metadata": {},
   "outputs": [
    {
     "data": {
      "text/plain": [
       "True"
      ]
     },
     "execution_count": 3,
     "metadata": {},
     "output_type": "execute_result"
    }
   ],
   "source": [
    "load_dotenv()"
   ]
  },
  {
   "cell_type": "code",
   "execution_count": 4,
   "id": "e219d5d6",
   "metadata": {},
   "outputs": [],
   "source": [
    "groq_api_key = os.getenv(\"GROQ_API_KEY\")\n",
    "if not groq_api_key:\n",
    "    raise ValueError(\"GROQ_API_KEY not found in environment variables. Please set it in your .env file.\")\n"
   ]
  },
  {
   "cell_type": "code",
   "execution_count": 5,
   "id": "f03b7ccc",
   "metadata": {},
   "outputs": [],
   "source": [
    "# Initialize the ChatGroq model\n",
    "model = ChatGroq(model=\"Gemma2-9b-It\", groq_api_key=groq_api_key)"
   ]
  },
  {
   "cell_type": "code",
   "execution_count": 6,
   "id": "2aa27f0d",
   "metadata": {},
   "outputs": [
    {
     "data": {
      "text/plain": [
       "ChatGroq(client=<groq.resources.chat.completions.Completions object at 0x000001E087972F70>, async_client=<groq.resources.chat.completions.AsyncCompletions object at 0x000001E08797B550>, model_name='Gemma2-9b-It', model_kwargs={}, groq_api_key=SecretStr('**********'))"
      ]
     },
     "execution_count": 6,
     "metadata": {},
     "output_type": "execute_result"
    }
   ],
   "source": [
    "model"
   ]
  },
  {
   "cell_type": "code",
   "execution_count": 7,
   "id": "bb8121ae",
   "metadata": {},
   "outputs": [
    {
     "data": {
      "text/plain": [
       "AIMessage(content=\"Hi Ishan! I'm doing well, thanks for asking. I'm Gemma, an AI assistant.\\n\\nIt's nice to meet you! What can I do for you today?\\n\", additional_kwargs={}, response_metadata={'token_usage': {'completion_tokens': 43, 'prompt_tokens': 33, 'total_tokens': 76, 'completion_time': 0.078181818, 'prompt_time': 0.003435407, 'queue_time': 0.258597284, 'total_time': 0.081617225}, 'model_name': 'Gemma2-9b-It', 'system_fingerprint': 'fp_10c08bf97d', 'finish_reason': 'stop', 'logprobs': None}, id='run--6f1bb901-90c1-48f6-a29d-6bd869b9ed44-0', usage_metadata={'input_tokens': 33, 'output_tokens': 43, 'total_tokens': 76})"
      ]
     },
     "execution_count": 7,
     "metadata": {},
     "output_type": "execute_result"
    }
   ],
   "source": [
    "from langchain_core.messages import HumanMessage,SystemMessage,AIMessage\n",
    "\n",
    "model.invoke([HumanMessage(content=\"Hi man,I am Ishan Naikele .How are you ?Bu the way,What's your name?\" )])"
   ]
  },
  {
   "cell_type": "code",
   "execution_count": 8,
   "id": "524ea333",
   "metadata": {},
   "outputs": [
    {
     "data": {
      "text/plain": [
       "AIMessage(content=\"As an AI, I don't have access to personal information about you like your name or where you live. I can only process the information that is directly given to me in our current conversation. \\n\\nWould you like to tell me your name and where you live? 😊\\n\", additional_kwargs={}, response_metadata={'token_usage': {'completion_tokens': 59, 'prompt_tokens': 78, 'total_tokens': 137, 'completion_time': 0.107272727, 'prompt_time': 0.005213646, 'queue_time': 0.260832593, 'total_time': 0.112486373}, 'model_name': 'Gemma2-9b-It', 'system_fingerprint': 'fp_10c08bf97d', 'finish_reason': 'stop', 'logprobs': None}, id='run--04c68d72-bf27-468b-b922-fc9c9df204e1-0', usage_metadata={'input_tokens': 78, 'output_tokens': 59, 'total_tokens': 137})"
      ]
     },
     "execution_count": 8,
     "metadata": {},
     "output_type": "execute_result"
    }
   ],
   "source": [
    "from langchain_core.messages import  AIMessage\n",
    "model.invoke(\n",
    "    [\n",
    "        HumanMessage(content=\"Hi man.How are you ?Bu the way,What's your name?\" ),\n",
    "        AIMessage(content=\"Hey Ishan, I'm doing well, thanks for asking! I'm Gemma, an AI assistant. It's nice to meet you. 😊\" ),\n",
    "        HumanMessage(content=\"What is my Name and Where I do Live?\")\n",
    "    ]\n",
    "    )"
   ]
  },
  {
   "cell_type": "code",
   "execution_count": 9,
   "id": "1338f375",
   "metadata": {},
   "outputs": [
    {
     "data": {
      "text/plain": [
       "AIMessage(content='You told me your name is Ishan Naikele and you live in India!  \\n\\nIs there anything else I can help you with?  \\n', additional_kwargs={}, response_metadata={'token_usage': {'completion_tokens': 32, 'prompt_tokens': 90, 'total_tokens': 122, 'completion_time': 0.058181818, 'prompt_time': 0.004092616, 'queue_time': 0.261075173, 'total_time': 0.062274434}, 'model_name': 'Gemma2-9b-It', 'system_fingerprint': 'fp_10c08bf97d', 'finish_reason': 'stop', 'logprobs': None}, id='run--615d3c78-8d6a-4771-81fe-b3e460e85637-0', usage_metadata={'input_tokens': 90, 'output_tokens': 32, 'total_tokens': 122})"
      ]
     },
     "execution_count": 9,
     "metadata": {},
     "output_type": "execute_result"
    }
   ],
   "source": [
    "from langchain_core.messages import  AIMessage\n",
    "model.invoke(\n",
    "    [\n",
    "        HumanMessage(content=\"Hi man,I am Ishan Naikele and I live in India .How are you ?Bu the way,What's your name?\" ),\n",
    "        AIMessage(content=\"Hey Ishan, I'm doing well, thanks for asking! I'm Gemma, an AI assistant. It's nice to meet you. 😊\" ),\n",
    "        HumanMessage(content=\"What is my Name and Where I do Live?\")\n",
    "    ]\n",
    "    )"
   ]
  },
  {
   "cell_type": "markdown",
   "id": "421c2bb0",
   "metadata": {},
   "source": [
    "### Message History"
   ]
  },
  {
   "cell_type": "code",
   "execution_count": 10,
   "id": "f8bf2c3b",
   "metadata": {},
   "outputs": [],
   "source": [
    "from langchain_community.chat_message_histories import ChatMessageHistory\n",
    "from langchain_core.chat_history import BaseChatMessageHistory\n",
    "from langchain_core.runnables.history import RunnableWithMessageHistory\n",
    "\n",
    "store={}\n",
    "\n",
    "def get_session_history(session_id:str)->BaseChatMessageHistory:\n",
    "    if session_id  not in store:\n",
    "        store[session_id]=ChatMessageHistory()\n",
    "    return store[session_id]\n",
    "\n",
    "with_message_history=RunnableWithMessageHistory(model,get_session_history)"
   ]
  },
  {
   "cell_type": "code",
   "execution_count": 11,
   "id": "f9235ac5",
   "metadata": {},
   "outputs": [],
   "source": [
    "config={\"configurable\":{\"session_id\":\"chat1\"}}"
   ]
  },
  {
   "cell_type": "code",
   "execution_count": 12,
   "id": "c434d01b",
   "metadata": {},
   "outputs": [],
   "source": [
    "response=with_message_history.invoke(\n",
    "    [HumanMessage(content=\"Hi man,I am Ishan Naikele and I live in India .How are you ?Bu the way,What's your name?\" )],\n",
    "    config=config\n",
    ")"
   ]
  },
  {
   "cell_type": "code",
   "execution_count": 13,
   "id": "68d57e9d",
   "metadata": {},
   "outputs": [
    {
     "data": {
      "text/plain": [
       "\"Hello Ishan, it's nice to meet you! I'm doing well, thank you for asking. I don't have a name like humans do, I'm simply called Gemma, which is the name of the project I'm a part of.\\n\\nIt's interesting to hear you're from India! Is there anything you'd like to talk about or ask me? I'm here to help in any way I can.\\n\""
      ]
     },
     "execution_count": 13,
     "metadata": {},
     "output_type": "execute_result"
    }
   ],
   "source": [
    "response.content"
   ]
  },
  {
   "cell_type": "code",
   "execution_count": 14,
   "id": "31978a41",
   "metadata": {},
   "outputs": [
    {
     "data": {
      "text/plain": [
       "AIMessage(content=\"You told me your name is Ishan Naikele and that you live in India.  \\n\\nIs there anything else you'd like to know or talk about? 😊  \\n\", additional_kwargs={}, response_metadata={'token_usage': {'completion_tokens': 38, 'prompt_tokens': 153, 'total_tokens': 191, 'completion_time': 0.069090909, 'prompt_time': 0.007660573, 'queue_time': 0.259145556, 'total_time': 0.076751482}, 'model_name': 'Gemma2-9b-It', 'system_fingerprint': 'fp_10c08bf97d', 'finish_reason': 'stop', 'logprobs': None}, id='run--4467d642-db4f-4f45-859f-4fcf4cee3a51-0', usage_metadata={'input_tokens': 153, 'output_tokens': 38, 'total_tokens': 191})"
      ]
     },
     "execution_count": 14,
     "metadata": {},
     "output_type": "execute_result"
    }
   ],
   "source": [
    "with_message_history.invoke(\n",
    "    [HumanMessage(content=\"What is my name and where do I stay?\" )],\n",
    "    config=config\n",
    ")"
   ]
  },
  {
   "cell_type": "code",
   "execution_count": 15,
   "id": "31af467e",
   "metadata": {},
   "outputs": [],
   "source": [
    "config={\"configurable\":{\"session_id\":\"chat1\"}}"
   ]
  },
  {
   "cell_type": "code",
   "execution_count": 16,
   "id": "7c4e8a0e",
   "metadata": {},
   "outputs": [],
   "source": [
    "response=with_message_history.invoke(\n",
    "    [HumanMessage(content=\"What is my name and what I am studying now?\" )],\n",
    "    config=config\n",
    ")"
   ]
  },
  {
   "cell_type": "code",
   "execution_count": 17,
   "id": "c31a48b0",
   "metadata": {},
   "outputs": [
    {
     "data": {
      "text/plain": [
       "\"As a large language model, I don't have access to personal information about you, like what you're studying. \\n\\nI only remember what you tell me in our current conversation.  You mentioned your name is Ishan Naikele and that you live in India.  \\n\\nIf you'd like to tell me what you're studying, I'd be happy to chat about it! 📚  \\n\\n\""
      ]
     },
     "execution_count": 17,
     "metadata": {},
     "output_type": "execute_result"
    }
   ],
   "source": [
    "response.content"
   ]
  },
  {
   "cell_type": "code",
   "execution_count": 18,
   "id": "eb3b4cc9",
   "metadata": {},
   "outputs": [],
   "source": [
    "config={\"configurable\":{\"session_id\":\"chat2\"}}"
   ]
  },
  {
   "cell_type": "code",
   "execution_count": 19,
   "id": "566bd31c",
   "metadata": {},
   "outputs": [],
   "source": [
    "response=with_message_history.invoke(\n",
    "    [HumanMessage(content=\"What is my name and what I am studying now?\" )],\n",
    "    config=config\n",
    ")"
   ]
  },
  {
   "cell_type": "code",
   "execution_count": 20,
   "id": "3c6ff058",
   "metadata": {},
   "outputs": [
    {
     "data": {
      "text/plain": [
       "\"As an AI, I have no memory of past conversations and no access to personal information about you, including your name or what you are studying.\\n\\nIf you'd like to tell me your name and what you're studying, I'd be happy to chat about it!\\n\""
      ]
     },
     "execution_count": 20,
     "metadata": {},
     "output_type": "execute_result"
    }
   ],
   "source": [
    "response.content"
   ]
  },
  {
   "cell_type": "markdown",
   "id": "0b1fe6ea",
   "metadata": {},
   "source": [
    "### Prompt Template "
   ]
  },
  {
   "cell_type": "code",
   "execution_count": 48,
   "id": "96c8eb0c",
   "metadata": {},
   "outputs": [],
   "source": [
    "from langchain_core.prompts import ChatMessagePromptTemplate,MessagesPlaceholder\n",
    "\n",
    "prompt=ChatPromptTemplate.from_messages(\n",
    "    [\n",
    "    (\"system\",\"You are a helpful Assistant .Answer all the Question asked to you to the best of your ability.Also try to be fast.\"),\n",
    "    MessagesPlaceholder(variable_name=\"messages\")\n",
    "    ]\n",
    ")\n",
    "\n",
    "chain=prompt | model "
   ]
  },
  {
   "cell_type": "code",
   "execution_count": 49,
   "id": "8737912f",
   "metadata": {},
   "outputs": [
    {
     "data": {
      "text/plain": [
       "AIMessage(content=\"Hey Ishan! Nice to meet you.  \\n\\nI'm not a person, but a large language model created by Google AI.  I don't go to college or have personal experiences like humans do.\\n\\nIt's great that you're studying B.Tech at G.H. Raisoni College of Engineering! What are you specializing in?  \\n\\n\", additional_kwargs={}, response_metadata={'token_usage': {'completion_tokens': 80, 'prompt_tokens': 69, 'total_tokens': 149, 'completion_time': 0.145454545, 'prompt_time': 0.00365162, 'queue_time': 0.25936747, 'total_time': 0.149106165}, 'model_name': 'Gemma2-9b-It', 'system_fingerprint': 'fp_10c08bf97d', 'finish_reason': 'stop', 'logprobs': None}, id='run--8e56bd35-2d09-4097-bfb7-1edff5e17c9c-0', usage_metadata={'input_tokens': 69, 'output_tokens': 80, 'total_tokens': 149})"
      ]
     },
     "execution_count": 49,
     "metadata": {},
     "output_type": "execute_result"
    }
   ],
   "source": [
    "chain.invoke({\"messages\":[HumanMessage(content=\"Hey man,I am Ishan Naikele and I am pursuing B.Tech from G.H.Raisoni College of Engineering .What's about you ?\")]})"
   ]
  },
  {
   "cell_type": "code",
   "execution_count": 50,
   "id": "6e306f32",
   "metadata": {},
   "outputs": [],
   "source": [
    "with_message_history=RunnableWithMessageHistory(chain,get_session_history)"
   ]
  },
  {
   "cell_type": "code",
   "execution_count": 51,
   "id": "dd94e4b5",
   "metadata": {},
   "outputs": [],
   "source": [
    "config={\"configurable\":{\"session_id\":\"chat3\"}}\n",
    "response=with_message_history.invoke(\n",
    "    [HumanMessage(content=\"Hey man,I am Ishan Naikele and I am pursuing B.Tech from G.H.Raisoni College of Engineering .What's about you ?\")],\n",
    "    config=config\n",
    "    )"
   ]
  },
  {
   "cell_type": "code",
   "execution_count": 52,
   "id": "8bd1249f",
   "metadata": {},
   "outputs": [
    {
     "data": {
      "text/plain": [
       "\"Hey Ishan!  \\n\\nIt's great to meet you. I'm Gemma, an AI assistant. I don't go to college or have a physical body, though. I live in the digital world and can help answer questions and have conversations.  \\n\\nWhat are you studying at G.H. Raisoni? 😊 \\n\\n\""
      ]
     },
     "execution_count": 52,
     "metadata": {},
     "output_type": "execute_result"
    }
   ],
   "source": [
    "response.content"
   ]
  },
  {
   "cell_type": "code",
   "execution_count": 61,
   "id": "a45d8653",
   "metadata": {},
   "outputs": [],
   "source": [
    "from langchain_core.prompts import ChatMessagePromptTemplate,MessagesPlaceholder\n",
    "\n",
    "prompt=ChatPromptTemplate.from_messages(\n",
    "    [\n",
    "    (\"system\",\"You are a helpful Assistant .Answer all the Question asked to you to the best of your ability in {language}\"),\n",
    "    MessagesPlaceholder(variable_name=\"messages\")\n",
    "    ]\n",
    ")\n",
    "\n",
    "chain=prompt | model "
   ]
  },
  {
   "cell_type": "code",
   "execution_count": 62,
   "id": "9636bd73",
   "metadata": {},
   "outputs": [],
   "source": [
    "config={\"configurable\":{\"session_id\":\"chat3\"}}\n",
    "response=chain.invoke(\n",
    "    {\"messages\":[HumanMessage(content=\"Hey man,I am Ishan Naikele and I am pursuing B.Tech from G.H.Raisoni College of Engineering .What's about you ?\")],\n",
    "    \"language\":\"Hindi\" },\n",
    "     \n",
    ")"
   ]
  },
  {
   "cell_type": "code",
   "execution_count": 63,
   "id": "b2a31133",
   "metadata": {},
   "outputs": [
    {
     "data": {
      "text/plain": [
       "'नमस्ते इशान! मुझे जानकर अच्छा लगा। मैं एक बड़ा भाषा मॉडल हूँ, जिसे Google ने बनाया है।  \\n\\nमुझे कॉलेज में पढ़ाई के बारे में बताओ! G.H. Raisoni College of Engineering में क्या पढ़ रहा है? \\n\\n'"
      ]
     },
     "execution_count": 63,
     "metadata": {},
     "output_type": "execute_result"
    }
   ],
   "source": [
    "response.content"
   ]
  },
  {
   "cell_type": "code",
   "execution_count": 64,
   "id": "a9746f59",
   "metadata": {},
   "outputs": [],
   "source": [
    " \n",
    "response=chain.invoke(\n",
    "    {\"messages\":[HumanMessage(content=\"Hey man,Who I am and What do I do ?\")],\n",
    "    \"language\":\"Hindi\" },\n",
    "    \n",
    ")"
   ]
  },
  {
   "cell_type": "code",
   "execution_count": 65,
   "id": "dcd15065",
   "metadata": {},
   "outputs": [
    {
     "data": {
      "text/plain": [
       "'नमस्ते!  \\n\\nमुझे पता नहीं कि तुम कौन हो और तुम क्या करते हो। मैं एक बड़ा भाषा मॉडल हूँ, जिसे Google ने प्रशिक्षित किया है। मैं जानकारी प्रदान करने, भाषाओं का अनुवाद करने और विभिन्न प्रकार के पाठ बनाने में मदद कर सकता हूँ। \\n\\nक्या मैं तुम्हें कुछ बता सकता हूँ या तुम्हारी कोई मदद कर सकता हूँ? \\n\\n'"
      ]
     },
     "execution_count": 65,
     "metadata": {},
     "output_type": "execute_result"
    }
   ],
   "source": [
    "response.content"
   ]
  },
  {
   "cell_type": "code",
   "execution_count": 66,
   "id": "97652d78",
   "metadata": {},
   "outputs": [],
   "source": [
    "response=chain.invoke(\n",
    "    {\"messages\":[HumanMessage(content=\"What is my name and What I am now studying?\")],\n",
    "    \"language\":\"Hindi\" },\n",
    "    config=config\n",
    ")"
   ]
  },
  {
   "cell_type": "code",
   "execution_count": 67,
   "id": "3a4d591f",
   "metadata": {},
   "outputs": [
    {
     "data": {
      "text/plain": [
       "'मुझे माफ़ करना, लेकिन मुझे आपका नाम या आप किसका अध्ययन कर रहे हैं, इस बारे में कोई जानकारी नहीं है। मैं एक बड़ा भाषा मॉडल हूँ, और मेरा कोई मेमोरी नहीं होता है पिछली बातचीत का। \\n\\nआप मुझे अपना नाम और अध्ययन विषय बता सकते हैं? \\n\\n'"
      ]
     },
     "execution_count": 67,
     "metadata": {},
     "output_type": "execute_result"
    }
   ],
   "source": [
    "response.content"
   ]
  },
  {
   "cell_type": "markdown",
   "id": "e8da024c",
   "metadata": {},
   "source": [
    "### Till now,In complex prompt we are not giving the message history till now .\n",
    "### Will Implement Message History Now"
   ]
  },
  {
   "cell_type": "code",
   "execution_count": 74,
   "id": "fd945ca1",
   "metadata": {},
   "outputs": [],
   "source": [
    "with_message_history=RunnableWithMessageHistory(chain,get_session_history,input_messages_key=\"messages\")"
   ]
  },
  {
   "cell_type": "code",
   "execution_count": 76,
   "id": "27c8d8c6",
   "metadata": {},
   "outputs": [
    {
     "data": {
      "text/plain": [
       "'नमस्ते Ishan! \\n\\nGHRCE Raisoni College of Engineering से CSE कर रहे हो क्या?  बधाई हो!  \\n\\nमुझे बताओ, तुम्हें क्या सहायता चाहिए?  😄\\n'"
      ]
     },
     "execution_count": 76,
     "metadata": {},
     "output_type": "execute_result"
    }
   ],
   "source": [
    "config={\"configurable\":{\"session_id\":\"chat5\"}}\n",
    "\n",
    "response=with_message_history.invoke(\n",
    "   {\n",
    "       \"messages\":[HumanMessage(content=\"I am Ishan Naikele and I am pursuing B.Tech CSE from GHRCE Raisoni College of Engineering.\" )],\n",
    "       \"language\":\"Hindi\"\n",
    "   },\n",
    "    config=config\n",
    ")\n",
    "\n",
    "response.content"
   ]
  },
  {
   "cell_type": "code",
   "execution_count": 77,
   "id": "f0c85eb2",
   "metadata": {},
   "outputs": [
    {
     "data": {
      "text/plain": [
       "'तुम्हारा नाम Ishan Naikele है और तुम GHRCE Raisoni College of Engineering से CSE कर रहे हो।  \\n\\nक्या और जानना चाहोगे?  \\n'"
      ]
     },
     "execution_count": 77,
     "metadata": {},
     "output_type": "execute_result"
    }
   ],
   "source": [
    "response=with_message_history.invoke(\n",
    "   {\n",
    "       \"messages\":[HumanMessage(content=\"What's my name and What ddo I do ?\" )],\n",
    "       \"language\":\"Hindi\"\n",
    "   },\n",
    "    config=config\n",
    ")\n",
    "\n",
    "response.content"
   ]
  }
 ],
 "metadata": {
  "kernelspec": {
   "display_name": "my_env",
   "language": "python",
   "name": "python3"
  },
  "language_info": {
   "codemirror_mode": {
    "name": "ipython",
    "version": 3
   },
   "file_extension": ".py",
   "mimetype": "text/x-python",
   "name": "python",
   "nbconvert_exporter": "python",
   "pygments_lexer": "ipython3",
   "version": "3.9.13"
  }
 },
 "nbformat": 4,
 "nbformat_minor": 5
}
