{
 "cells": [
  {
   "cell_type": "code",
   "execution_count": 1,
   "id": "f7a218aa",
   "metadata": {},
   "outputs": [],
   "source": [
    "import os\n",
    "from dotenv import load_dotenv\n",
    "from langchain_core.prompts import ChatPromptTemplate\n",
    "from langchain_core.output_parsers import StrOutputParser\n",
    "from langchain_groq import ChatGroq"
   ]
  },
  {
   "cell_type": "code",
   "execution_count": 2,
   "id": "89f1f684",
   "metadata": {},
   "outputs": [
    {
     "data": {
      "text/plain": [
       "True"
      ]
     },
     "execution_count": 2,
     "metadata": {},
     "output_type": "execute_result"
    }
   ],
   "source": [
    "load_dotenv()"
   ]
  },
  {
   "cell_type": "code",
   "execution_count": 3,
   "id": "e219d5d6",
   "metadata": {},
   "outputs": [],
   "source": [
    "groq_api_key = os.getenv(\"GROQ_API_KEY\")\n",
    "if not groq_api_key:\n",
    "    raise ValueError(\"GROQ_API_KEY not found in environment variables. Please set it in your .env file.\")\n"
   ]
  },
  {
   "cell_type": "code",
   "execution_count": 4,
   "id": "f03b7ccc",
   "metadata": {},
   "outputs": [],
   "source": [
    "# Initialize the ChatGroq model\n",
    "model = ChatGroq(model=\"Gemma2-9b-It\", groq_api_key=groq_api_key)"
   ]
  },
  {
   "cell_type": "code",
   "execution_count": 5,
   "id": "2aa27f0d",
   "metadata": {},
   "outputs": [
    {
     "data": {
      "text/plain": [
       "ChatGroq(client=<groq.resources.chat.completions.Completions object at 0x0000021B8F2C4A90>, async_client=<groq.resources.chat.completions.AsyncCompletions object at 0x0000021B8F4F3D30>, model_name='Gemma2-9b-It', model_kwargs={}, groq_api_key=SecretStr('**********'))"
      ]
     },
     "execution_count": 5,
     "metadata": {},
     "output_type": "execute_result"
    }
   ],
   "source": [
    "model"
   ]
  },
  {
   "cell_type": "code",
   "execution_count": null,
   "id": "bb8121ae",
   "metadata": {},
   "outputs": [
    {
     "data": {
      "text/plain": [
       "AIMessage(content=\"Hey Ishan, I'm doing well, thanks for asking! I'm Gemma, an AI assistant. It's nice to meet you. 😊 \\n\\nHow are you doing today?\\n\", additional_kwargs={}, response_metadata={'token_usage': {'completion_tokens': 43, 'prompt_tokens': 33, 'total_tokens': 76, 'completion_time': 0.078181818, 'prompt_time': 0.002282346, 'queue_time': 0.242300803, 'total_time': 0.080464164}, 'model_name': 'Gemma2-9b-It', 'system_fingerprint': 'fp_10c08bf97d', 'finish_reason': 'stop', 'logprobs': None}, id='run--0cf6344d-55e7-469d-8e6f-9c5297fbadcd-0', usage_metadata={'input_tokens': 33, 'output_tokens': 43, 'total_tokens': 76})"
      ]
     },
     "execution_count": 6,
     "metadata": {},
     "output_type": "execute_result"
    }
   ],
   "source": [
    "from langchain_core.messages import HumanMessage,SystemMessage,AIMessage\n",
    "\n",
    "model.invoke([HumanMessage(content=\"Hi man,I am Ishan Naikele .How are you ?Bu the way,What's your name?\" )])"
   ]
  },
  {
   "cell_type": "code",
   "execution_count": 12,
   "id": "524ea333",
   "metadata": {},
   "outputs": [
    {
     "data": {
      "text/plain": [
       "AIMessage(content=\"As an AI, I don't have access to personal information about you like your name or where you live. That kind of information is private and I'm designed to respect your privacy. 😊 \\n\\nIs there anything else I can help you with?\\n\", additional_kwargs={}, response_metadata={'token_usage': {'completion_tokens': 55, 'prompt_tokens': 78, 'total_tokens': 133, 'completion_time': 0.1, 'prompt_time': 0.003719915, 'queue_time': 0.243765907, 'total_time': 0.103719915}, 'model_name': 'Gemma2-9b-It', 'system_fingerprint': 'fp_10c08bf97d', 'finish_reason': 'stop', 'logprobs': None}, id='run--d03a99dd-2172-46ef-9e3d-35216d7bb09c-0', usage_metadata={'input_tokens': 78, 'output_tokens': 55, 'total_tokens': 133})"
      ]
     },
     "execution_count": 12,
     "metadata": {},
     "output_type": "execute_result"
    }
   ],
   "source": [
    "from langchain_core.messages import  AIMessage\n",
    "model.invoke(\n",
    "    [\n",
    "        HumanMessage(content=\"Hi man.How are you ?Bu the way,What's your name?\" ),\n",
    "        AIMessage(content=\"Hey Ishan, I'm doing well, thanks for asking! I'm Gemma, an AI assistant. It's nice to meet you. 😊\" ),\n",
    "        HumanMessage(content=\"What is my Name and Where I do Live?\")\n",
    "    ]\n",
    "    )"
   ]
  },
  {
   "cell_type": "code",
   "execution_count": 13,
   "id": "1338f375",
   "metadata": {},
   "outputs": [
    {
     "data": {
      "text/plain": [
       "AIMessage(content='You said your name is Ishan Naikele and you live in India!  \\n\\nIs there anything else I can help you with?\\n', additional_kwargs={}, response_metadata={'token_usage': {'completion_tokens': 30, 'prompt_tokens': 90, 'total_tokens': 120, 'completion_time': 0.054545455, 'prompt_time': 0.004047716, 'queue_time': 0.242720774, 'total_time': 0.058593171}, 'model_name': 'Gemma2-9b-It', 'system_fingerprint': 'fp_10c08bf97d', 'finish_reason': 'stop', 'logprobs': None}, id='run--a4337f92-5568-431e-b3e7-6c3d0a5f3c3b-0', usage_metadata={'input_tokens': 90, 'output_tokens': 30, 'total_tokens': 120})"
      ]
     },
     "execution_count": 13,
     "metadata": {},
     "output_type": "execute_result"
    }
   ],
   "source": [
    "from langchain_core.messages import  AIMessage\n",
    "model.invoke(\n",
    "    [\n",
    "        HumanMessage(content=\"Hi man,I am Ishan Naikele and I live in India .How are you ?Bu the way,What's your name?\" ),\n",
    "        AIMessage(content=\"Hey Ishan, I'm doing well, thanks for asking! I'm Gemma, an AI assistant. It's nice to meet you. 😊\" ),\n",
    "        HumanMessage(content=\"What is my Name and Where I do Live?\")\n",
    "    ]\n",
    "    )"
   ]
  },
  {
   "cell_type": "markdown",
   "id": "421c2bb0",
   "metadata": {},
   "source": [
    "### Message History"
   ]
  },
  {
   "cell_type": "code",
   "execution_count": null,
   "id": "f8bf2c3b",
   "metadata": {},
   "outputs": [],
   "source": []
  },
  {
   "cell_type": "code",
   "execution_count": null,
   "id": "f9235ac5",
   "metadata": {},
   "outputs": [],
   "source": []
  },
  {
   "cell_type": "code",
   "execution_count": null,
   "id": "c434d01b",
   "metadata": {},
   "outputs": [],
   "source": []
  }
 ],
 "metadata": {
  "kernelspec": {
   "display_name": "my_env",
   "language": "python",
   "name": "python3"
  },
  "language_info": {
   "codemirror_mode": {
    "name": "ipython",
    "version": 3
   },
   "file_extension": ".py",
   "mimetype": "text/x-python",
   "name": "python",
   "nbconvert_exporter": "python",
   "pygments_lexer": "ipython3",
   "version": "3.9.13"
  }
 },
 "nbformat": 4,
 "nbformat_minor": 5
}
